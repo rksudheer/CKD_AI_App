{
 "cells": [
  {
   "cell_type": "code",
   "execution_count": 2,
   "id": "375933eb-b5f1-4941-83c4-07001bef5203",
   "metadata": {},
   "outputs": [
    {
     "name": "stdout",
     "output_type": "stream",
     "text": [
      "              precision    recall  f1-score   support\n",
      "\n",
      "           0       0.68      0.74      0.71       214\n",
      "           1       0.47      0.39      0.42       124\n",
      "\n",
      "    accuracy                           0.61       338\n",
      "   macro avg       0.57      0.57      0.57       338\n",
      "weighted avg       0.60      0.61      0.60       338\n",
      "\n",
      "✅ Model and scaler saved to ../models/\n",
      "✅ Model and Scaler saved!\n"
     ]
    }
   ],
   "source": [
    "# 1. Imports\n",
    "import pandas as pd\n",
    "from sklearn.ensemble import RandomForestClassifier\n",
    "from sklearn.preprocessing import StandardScaler\n",
    "from sklearn.model_selection import train_test_split\n",
    "from sklearn.metrics import classification_report\n",
    "import joblib\n",
    "import os\n",
    "\n",
    "# 2. Load dataset\n",
    "df = pd.read_csv(\"../data/ckd_simulated_input.csv\")\n",
    "\n",
    "# 3. Define streamlined features and target\n",
    "features = ['RIDAGEYR', 'RIAGENDR', 'LBXGH', 'SMQ020', 'PAQ605']\n",
    "target = 'CKD'\n",
    "\n",
    "X = df[features]\n",
    "y = df[target]\n",
    "\n",
    "# 4. Train-test split\n",
    "X_train, X_test, y_train, y_test = train_test_split(X, y, stratify=y, test_size=0.2, random_state=42)\n",
    "\n",
    "# 5. Scale features\n",
    "scaler = StandardScaler()\n",
    "X_train_scaled = scaler.fit_transform(X_train)\n",
    "X_test_scaled = scaler.transform(X_test)\n",
    "\n",
    "# 6. Train Random Forest model\n",
    "rf = RandomForestClassifier(n_estimators=100, random_state=42)\n",
    "rf.fit(X_train_scaled, y_train)\n",
    "\n",
    "# 7. Evaluate\n",
    "y_pred = rf.predict(X_test_scaled)\n",
    "print(classification_report(y_test, y_pred))\n",
    "\n",
    "# 8. Save model and scaler\n",
    "os.makedirs(\"../models\", exist_ok=True)\n",
    "joblib.dump(rf, \"../models/rf_model_streamlined.pkl\")\n",
    "joblib.dump(scaler, \"../models/scaler_streamlined.joblib\")\n",
    "\n",
    "print(\"✅ Model and scaler saved to ../models/\")\n",
    "\n",
    "import joblib\n",
    "\n",
    "# Save the streamlined model\n",
    "joblib.dump(rf, \"../models/rf_model_streamlined.pkl\")\n",
    "\n",
    "# Save the corresponding scaler\n",
    "joblib.dump(scaler, \"../models/scaler_streamlined.joblib\")\n",
    "\n",
    "print(\"✅ Model and Scaler saved!\")"
   ]
  }
 ],
 "metadata": {
  "kernelspec": {
   "display_name": "Python 3 (ipykernel)",
   "language": "python",
   "name": "python3"
  },
  "language_info": {
   "codemirror_mode": {
    "name": "ipython",
    "version": 3
   },
   "file_extension": ".py",
   "mimetype": "text/x-python",
   "name": "python",
   "nbconvert_exporter": "python",
   "pygments_lexer": "ipython3",
   "version": "3.12.7"
  }
 },
 "nbformat": 4,
 "nbformat_minor": 5
}
